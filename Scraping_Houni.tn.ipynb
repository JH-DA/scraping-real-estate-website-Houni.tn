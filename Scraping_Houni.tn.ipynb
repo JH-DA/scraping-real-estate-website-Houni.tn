{
 "cells": [
  {
   "cell_type": "markdown",
   "metadata": {},
   "source": [
    "### Scrap date of publication"
   ]
  },
  {
   "cell_type": "code",
   "execution_count": 1,
   "metadata": {},
   "outputs": [],
   "source": [
    "# ignore warnings\n",
    "import warnings\n",
    "warnings.filterwarnings('ignore')"
   ]
  },
  {
   "cell_type": "code",
   "execution_count": 2,
   "metadata": {},
   "outputs": [],
   "source": [
    "# import packages\n",
    "import requests\n",
    "from bs4 import BeautifulSoup as soup\n",
    "import pandas as pd\n",
    "import time"
   ]
  },
  {
   "cell_type": "code",
   "execution_count": 3,
   "metadata": {},
   "outputs": [],
   "source": [
    "homes=[]\n",
    "for x in range(1,3): # x is number of pages that you want to extract\n",
    "    url='https://houni.tn/immobiliers/achat?categories=1&currentPage='\n",
    "    r=requests.get(url+str(x))\n",
    "    page=soup(r.content,'html.parser')\n",
    "    cards=page.findAll('div',class_='card')\n",
    "    for card in cards:\n",
    "        price=card.find('div',class_='card-footer').text.strip().replace(' ','.').split('.DTN')[0] #scrap the price\n",
    "        location=card.find('p',class_='subtitle is-size-6 has-text-grey-darker mb-3').text.strip() #scrap location\n",
    "        province=card.find('p',class_='subtitle is-size-6 has-text-grey-darker mb-3').text.strip().split(',')[-1] #scrap province\n",
    "        card_details=card.find('div',class_='card-details has-text-grey-darker mb-2').text.strip().split() #scrap house details\n",
    "        number_of_rooms=card_details[0] #scrap number of rooms\n",
    "        number_of_BR=card_details[2] #scrap number of bathroom\n",
    "        area=card_details[-2] # scrap area\n",
    "        # Dictionnary of items\n",
    "        property_info={\n",
    "            'Price':price,\n",
    "            'Location':location,\n",
    "            'Area':area,\n",
    "            'Number_of_rooms':number_of_rooms,\n",
    "            'Number_of_bathroom':number_of_BR,\n",
    "            'Province':province\n",
    "        }\n",
    "        # List of all the pages\n",
    "        homes.append(property_info)\n",
    "    #giving a little of breakings between the requests = 3s\n",
    "    time.sleep(3)\n",
    "    "
   ]
  },
  {
   "cell_type": "code",
   "execution_count": 4,
   "metadata": {},
   "outputs": [],
   "source": [
    "# DataFrame\n",
    "df=pd.DataFrame(homes)"
   ]
  },
  {
   "cell_type": "code",
   "execution_count": 5,
   "metadata": {},
   "outputs": [],
   "source": [
    "pd.set_option('display.max_rows',6)"
   ]
  },
  {
   "cell_type": "code",
   "execution_count": 6,
   "metadata": {},
   "outputs": [
    {
     "data": {
      "text/html": [
       "<div>\n",
       "<style scoped>\n",
       "    .dataframe tbody tr th:only-of-type {\n",
       "        vertical-align: middle;\n",
       "    }\n",
       "\n",
       "    .dataframe tbody tr th {\n",
       "        vertical-align: top;\n",
       "    }\n",
       "\n",
       "    .dataframe thead th {\n",
       "        text-align: right;\n",
       "    }\n",
       "</style>\n",
       "<table border=\"1\" class=\"dataframe\">\n",
       "  <thead>\n",
       "    <tr style=\"text-align: right;\">\n",
       "      <th></th>\n",
       "      <th>Price</th>\n",
       "      <th>Location</th>\n",
       "      <th>Area</th>\n",
       "      <th>Number_of_rooms</th>\n",
       "      <th>Number_of_bathroom</th>\n",
       "      <th>Province</th>\n",
       "    </tr>\n",
       "  </thead>\n",
       "  <tbody>\n",
       "    <tr>\n",
       "      <td>0</td>\n",
       "      <td>400.000</td>\n",
       "      <td>djerba houmt souk,Midoun,Djerba Midoun,Mednine</td>\n",
       "      <td>280</td>\n",
       "      <td>2</td>\n",
       "      <td>2</td>\n",
       "      <td>Mednine</td>\n",
       "    </tr>\n",
       "    <tr>\n",
       "      <td>1</td>\n",
       "      <td>1</td>\n",
       "      <td>djerba houmt souk,Midoun,Djerba Midoun,Mednine</td>\n",
       "      <td>200</td>\n",
       "      <td>2</td>\n",
       "      <td>3</td>\n",
       "      <td>Mednine</td>\n",
       "    </tr>\n",
       "    <tr>\n",
       "      <td>2</td>\n",
       "      <td>560.000</td>\n",
       "      <td>la soukra ,Soukra,Soukra,Ariana</td>\n",
       "      <td>220</td>\n",
       "      <td>4</td>\n",
       "      <td>2</td>\n",
       "      <td>Ariana</td>\n",
       "    </tr>\n",
       "    <tr>\n",
       "      <td>3</td>\n",
       "      <td>450.000</td>\n",
       "      <td>djerba houmt souk ,Midoun,Djerba Midoun,Mednine</td>\n",
       "      <td>208</td>\n",
       "      <td>1</td>\n",
       "      <td>3</td>\n",
       "      <td>Mednine</td>\n",
       "    </tr>\n",
       "    <tr>\n",
       "      <td>4</td>\n",
       "      <td>750.000</td>\n",
       "      <td>djerba houmt souk,Midoun,Djerba Midoun,Mednine</td>\n",
       "      <td>350</td>\n",
       "      <td>2</td>\n",
       "      <td>3</td>\n",
       "      <td>Mednine</td>\n",
       "    </tr>\n",
       "  </tbody>\n",
       "</table>\n",
       "</div>"
      ],
      "text/plain": [
       "     Price                                         Location Area  \\\n",
       "0  400.000   djerba houmt souk,Midoun,Djerba Midoun,Mednine  280   \n",
       "1        1   djerba houmt souk,Midoun,Djerba Midoun,Mednine  200   \n",
       "2  560.000                  la soukra ,Soukra,Soukra,Ariana  220   \n",
       "3  450.000  djerba houmt souk ,Midoun,Djerba Midoun,Mednine  208   \n",
       "4  750.000   djerba houmt souk,Midoun,Djerba Midoun,Mednine  350   \n",
       "\n",
       "  Number_of_rooms Number_of_bathroom Province  \n",
       "0               2                  2  Mednine  \n",
       "1               2                  3  Mednine  \n",
       "2               4                  2   Ariana  \n",
       "3               1                  3  Mednine  \n",
       "4               2                  3  Mednine  "
      ]
     },
     "execution_count": 6,
     "metadata": {},
     "output_type": "execute_result"
    }
   ],
   "source": [
    "# Display the 5 first rows\n",
    "df.head()"
   ]
  },
  {
   "cell_type": "code",
   "execution_count": 7,
   "metadata": {},
   "outputs": [
    {
     "data": {
      "text/plain": [
       "(40, 6)"
      ]
     },
     "execution_count": 7,
     "metadata": {},
     "output_type": "execute_result"
    }
   ],
   "source": [
    "# Dimensions\n",
    "df.shape"
   ]
  },
  {
   "cell_type": "code",
   "execution_count": 8,
   "metadata": {},
   "outputs": [
    {
     "data": {
      "text/plain": [
       "Index(['Price', 'Location', 'Area', 'Number_of_rooms', 'Number_of_bathroom',\n",
       "       'Province'],\n",
       "      dtype='object')"
      ]
     },
     "execution_count": 8,
     "metadata": {},
     "output_type": "execute_result"
    }
   ],
   "source": [
    "df.columns"
   ]
  },
  {
   "cell_type": "code",
   "execution_count": 9,
   "metadata": {},
   "outputs": [],
   "source": [
    "df[['Area','Number_of_rooms','Number_of_bathroom']]=df[['Area','Number_of_rooms','Number_of_bathroom']].astype('int64')"
   ]
  },
  {
   "cell_type": "code",
   "execution_count": 10,
   "metadata": {},
   "outputs": [],
   "source": [
    "# Create csv file\n",
    "df.to_csv('Scraping_Homes.csv',index=False)"
   ]
  },
  {
   "cell_type": "code",
   "execution_count": null,
   "metadata": {},
   "outputs": [],
   "source": []
  }
 ],
 "metadata": {
  "kernelspec": {
   "display_name": "Python 3",
   "language": "python",
   "name": "python3"
  },
  "language_info": {
   "codemirror_mode": {
    "name": "ipython",
    "version": 3
   },
   "file_extension": ".py",
   "mimetype": "text/x-python",
   "name": "python",
   "nbconvert_exporter": "python",
   "pygments_lexer": "ipython3",
   "version": "3.7.4"
  }
 },
 "nbformat": 4,
 "nbformat_minor": 2
}
